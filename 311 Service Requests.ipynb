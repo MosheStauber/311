{
 "cells": [
  {
   "cell_type": "code",
   "execution_count": 1,
   "metadata": {
    "collapsed": true
   },
   "outputs": [],
   "source": [
    "import pandas as pd\n",
    "import numpy as np\n",
    "from sodapy import Socrata\n",
    "\n",
    "# Socrata specific \n",
    "socrata_domain = \"data.cityofnewyork.us\"\n",
    "socrata_token = \"F52GVJzdJf2mpjl7n17oXvzqF\" # should be an environment variable\n",
    "dataset_id = \"fhrw-4uyv\"\n",
    "\n",
    "# set up socrate client endpoint\n",
    "client = Socrata(socrata_domain, socrata_token)"
   ]
  },
  {
   "cell_type": "markdown",
   "metadata": {},
   "source": [
    "# Data retrieval and cleaning"
   ]
  },
  {
   "cell_type": "code",
   "execution_count": 2,
   "metadata": {
    "collapsed": false
   },
   "outputs": [
    {
     "name": "stdout",
     "output_type": "stream",
     "text": [
      "Number of complaints in 2017: 2445387\n"
     ]
    }
   ],
   "source": [
    "# get the total number of complaints made in 2017\n",
    "num_complaints_2017 = client.get(dataset_id,\n",
    "                    select=\"count(*)\",\n",
    "                    where=\"created_date between '2017-01-01T00:00:00.001' and '2017-12-31T23:59:59'\")[0]['count']\n",
    "\n",
    "print(\"Number of complaints in 2017: {}\".format(num_complaints_2017))"
   ]
  },
  {
   "cell_type": "code",
   "execution_count": 3,
   "metadata": {
    "collapsed": true
   },
   "outputs": [],
   "source": [
    "# get only the necessary fields and the exact amount of complaints made in 2017\n",
    "# starting from the 1st second into 2017 because there are about 50 complaints at time 00:00:00 and must be bogus\n",
    "results = client.get(dataset_id,\n",
    "                    select=\"unique_key, created_date, complaint_type, descriptor, incident_zip, borough, city\",\n",
    "                    where=\"created_date between '2017-01-01T00:00:00.001' and '2017-12-31T23:59:59'\",\n",
    "                    order=\"created_date ASC\",\n",
    "                    limit=num_complaints_2017)\n",
    "\n",
    "# Convert to pandas DataFrame\n",
    "complaints_df = pd.DataFrame.from_records(results)"
   ]
  },
  {
   "cell_type": "code",
   "execution_count": 4,
   "metadata": {
    "collapsed": true
   },
   "outputs": [],
   "source": [
    "# simple cleaning of data\n",
    "# should be calculated if possible\n",
    "\n",
    "# remove all rows with 'Unspecified' boroughs \n",
    "complaints_df = complaints_df.query(\"borough != 'Unspecified'\")\n",
    "\n",
    "# remove rows with invalid zip codes\n",
    "complaints_df = complaints_df[complaints_df['incident_zip'].str.len() == 5]"
   ]
  },
  {
   "cell_type": "markdown",
   "metadata": {},
   "source": [
    "# Top 10 complaint types by borough"
   ]
  },
  {
   "cell_type": "code",
   "execution_count": 5,
   "metadata": {
    "collapsed": false
   },
   "outputs": [
    {
     "name": "stdout",
     "output_type": "stream",
     "text": [
      "Number of unique complaint types in all boroughs:\n",
      "200\n",
      "\n",
      "Top 10 complaint types overall in all boroughs:\n",
      "Noise - Residential        229458\n",
      "HEAT/HOT WATER             213477\n",
      "Illegal Parking            144827\n",
      "Blocked Driveway           135056\n",
      "Street Condition            90341\n",
      "UNSANITARY CONDITION        79260\n",
      "Noise - Street/Sidewalk     72867\n",
      "Water System                63691\n",
      "Noise                       59466\n",
      "PAINT/PLASTER               57069\n",
      "Name: complaint_type, dtype: int64\n"
     ]
    }
   ],
   "source": [
    "# get the 10 most common overall complaint types\n",
    "top_10_complaint_types = complaints_df.complaint_type.value_counts()[:10]\n",
    "\n",
    "print(\"Number of unique complaint types in all boroughs:\\n{}\\n\".format(complaints_df.complaint_type.nunique()))\n",
    "print(\"Top 10 complaint types overall in all boroughs:\\n{}\".format(top_10_complaint_types))"
   ]
  },
  {
   "cell_type": "code",
   "execution_count": 6,
   "metadata": {
    "collapsed": true
   },
   "outputs": [],
   "source": [
    "# create pivot table using the boroughs as the index and a count of each unique complaint type\n",
    "complaints_by_borough = complaints_df.pivot_table(index='borough', columns='complaint_type', aggfunc=len)\n",
    "\n",
    "# get a cross section of a column without a mutlilevel index (shouldn't matter which column is chosen)\n",
    "complaints_by_borough = complaints_by_borough.xs('city', axis=1, drop_level=True)"
   ]
  },
  {
   "cell_type": "code",
   "execution_count": 7,
   "metadata": {
    "collapsed": false
   },
   "outputs": [
    {
     "data": {
      "text/html": [
       "<div>\n",
       "<style>\n",
       "    .dataframe thead tr:only-child th {\n",
       "        text-align: right;\n",
       "    }\n",
       "\n",
       "    .dataframe thead th {\n",
       "        text-align: left;\n",
       "    }\n",
       "\n",
       "    .dataframe tbody tr th {\n",
       "        vertical-align: top;\n",
       "    }\n",
       "</style>\n",
       "<table border=\"1\" class=\"dataframe\">\n",
       "  <thead>\n",
       "    <tr style=\"text-align: right;\">\n",
       "      <th>complaint_type</th>\n",
       "      <th>Noise - Residential</th>\n",
       "      <th>HEAT/HOT WATER</th>\n",
       "      <th>Illegal Parking</th>\n",
       "      <th>Blocked Driveway</th>\n",
       "      <th>Street Condition</th>\n",
       "      <th>UNSANITARY CONDITION</th>\n",
       "      <th>Noise - Street/Sidewalk</th>\n",
       "      <th>Water System</th>\n",
       "      <th>Noise</th>\n",
       "      <th>PAINT/PLASTER</th>\n",
       "    </tr>\n",
       "    <tr>\n",
       "      <th>borough</th>\n",
       "      <th></th>\n",
       "      <th></th>\n",
       "      <th></th>\n",
       "      <th></th>\n",
       "      <th></th>\n",
       "      <th></th>\n",
       "      <th></th>\n",
       "      <th></th>\n",
       "      <th></th>\n",
       "      <th></th>\n",
       "    </tr>\n",
       "  </thead>\n",
       "  <tbody>\n",
       "    <tr>\n",
       "      <th>BRONX</th>\n",
       "      <td>57663.0</td>\n",
       "      <td>68713.0</td>\n",
       "      <td>16122.0</td>\n",
       "      <td>24574.0</td>\n",
       "      <td>11155.0</td>\n",
       "      <td>24557.0</td>\n",
       "      <td>14025.0</td>\n",
       "      <td>9965.0</td>\n",
       "      <td>3056.0</td>\n",
       "      <td>19493.0</td>\n",
       "    </tr>\n",
       "    <tr>\n",
       "      <th>BROOKLYN</th>\n",
       "      <td>67629.0</td>\n",
       "      <td>66977.0</td>\n",
       "      <td>55380.0</td>\n",
       "      <td>49301.0</td>\n",
       "      <td>24875.0</td>\n",
       "      <td>26654.0</td>\n",
       "      <td>21313.0</td>\n",
       "      <td>19508.0</td>\n",
       "      <td>15227.0</td>\n",
       "      <td>19398.0</td>\n",
       "    </tr>\n",
       "    <tr>\n",
       "      <th>MANHATTAN</th>\n",
       "      <td>51026.0</td>\n",
       "      <td>46528.0</td>\n",
       "      <td>19686.0</td>\n",
       "      <td>3428.0</td>\n",
       "      <td>14496.0</td>\n",
       "      <td>14631.0</td>\n",
       "      <td>29146.0</td>\n",
       "      <td>10666.0</td>\n",
       "      <td>28754.0</td>\n",
       "      <td>11486.0</td>\n",
       "    </tr>\n",
       "    <tr>\n",
       "      <th>QUEENS</th>\n",
       "      <td>46396.0</td>\n",
       "      <td>29186.0</td>\n",
       "      <td>46065.0</td>\n",
       "      <td>54288.0</td>\n",
       "      <td>29495.0</td>\n",
       "      <td>11467.0</td>\n",
       "      <td>7530.0</td>\n",
       "      <td>18279.0</td>\n",
       "      <td>10523.0</td>\n",
       "      <td>5682.0</td>\n",
       "    </tr>\n",
       "    <tr>\n",
       "      <th>STATEN ISLAND</th>\n",
       "      <td>6744.0</td>\n",
       "      <td>2073.0</td>\n",
       "      <td>7574.0</td>\n",
       "      <td>3465.0</td>\n",
       "      <td>10320.0</td>\n",
       "      <td>1951.0</td>\n",
       "      <td>853.0</td>\n",
       "      <td>5273.0</td>\n",
       "      <td>1906.0</td>\n",
       "      <td>1010.0</td>\n",
       "    </tr>\n",
       "  </tbody>\n",
       "</table>\n",
       "</div>"
      ],
      "text/plain": [
       "complaint_type  Noise - Residential  HEAT/HOT WATER  Illegal Parking  \\\n",
       "borough                                                                \n",
       "BRONX                       57663.0         68713.0          16122.0   \n",
       "BROOKLYN                    67629.0         66977.0          55380.0   \n",
       "MANHATTAN                   51026.0         46528.0          19686.0   \n",
       "QUEENS                      46396.0         29186.0          46065.0   \n",
       "STATEN ISLAND                6744.0          2073.0           7574.0   \n",
       "\n",
       "complaint_type  Blocked Driveway  Street Condition  UNSANITARY CONDITION  \\\n",
       "borough                                                                    \n",
       "BRONX                    24574.0           11155.0               24557.0   \n",
       "BROOKLYN                 49301.0           24875.0               26654.0   \n",
       "MANHATTAN                 3428.0           14496.0               14631.0   \n",
       "QUEENS                   54288.0           29495.0               11467.0   \n",
       "STATEN ISLAND             3465.0           10320.0                1951.0   \n",
       "\n",
       "complaint_type  Noise - Street/Sidewalk  Water System    Noise  PAINT/PLASTER  \n",
       "borough                                                                        \n",
       "BRONX                           14025.0        9965.0   3056.0        19493.0  \n",
       "BROOKLYN                        21313.0       19508.0  15227.0        19398.0  \n",
       "MANHATTAN                       29146.0       10666.0  28754.0        11486.0  \n",
       "QUEENS                           7530.0       18279.0  10523.0         5682.0  \n",
       "STATEN ISLAND                     853.0        5273.0   1906.0         1010.0  "
      ]
     },
     "execution_count": 7,
     "metadata": {},
     "output_type": "execute_result"
    }
   ],
   "source": [
    "# print just the top 10 complaint types \n",
    "complaints_by_borough[top_10_complaint_types.index]"
   ]
  },
  {
   "cell_type": "code",
   "execution_count": 8,
   "metadata": {
    "collapsed": false
   },
   "outputs": [
    {
     "data": {
      "text/plain": [
       "'\\n# I only ran this to verify the output of the pivot table but it takes a while so...\\n\\nfor borough in complaints_df.borough.unique():\\n    for complaint in top_10_complaint_types.index:\\n        count = len(complaints_df[(complaints_df[\\'borough\\'] == borough) & (complaints_df[\\'complaint_type\\'] == complaint)])\\n        print(\"Borough: {}\\tType: {}\\tCount: {}\".format(borough, complaint, count))\\n    print(\"\")\\n'"
      ]
     },
     "execution_count": 8,
     "metadata": {},
     "output_type": "execute_result"
    }
   ],
   "source": [
    "# Verify previous pivot table results\n",
    "# get the number of 10 most common overall complaint types PER BOROUGH\n",
    "\"\"\"\n",
    "# I only ran this to verify the output of the pivot table but it takes a while so...\n",
    "\n",
    "for borough in complaints_df.borough.unique():\n",
    "    for complaint in top_10_complaint_types.index:\n",
    "        count = len(complaints_df[(complaints_df['borough'] == borough) & (complaints_df['complaint_type'] == complaint)])\n",
    "        print(\"Borough: {}\\tType: {}\\tCount: {}\".format(borough, complaint, count))\n",
    "    print(\"\")\n",
    "\"\"\""
   ]
  },
  {
   "cell_type": "markdown",
   "metadata": {},
   "source": [
    "# Top 10 complaint types for top 10 most populous zipcodes"
   ]
  },
  {
   "cell_type": "code",
   "execution_count": 9,
   "metadata": {
    "collapsed": false
   },
   "outputs": [],
   "source": [
    "# Get 2010 census population by zipcode \n",
    "zipcode_df = pd.read_csv(\"https://s3.amazonaws.com/SplitwiseBlogJB/2010+Census+Population+By+Zipcode+(ZCTA).csv\")\n",
    "\n",
    "# renaming the columns for easier access\n",
    "zipcode_df.rename(columns = {'Zip Code ZCTA':'ZCTA', '2010 Census Population':'Population'}, inplace = True)\n",
    "\n",
    "# Filter the zipcode dataframe to include only NYC zipcodes (the ones in our 311 Service Request dataframe)\n",
    "zipcode_df = zipcode_df[zipcode_df['ZCTA'].isin(complaints_df.incident_zip.unique())]"
   ]
  },
  {
   "cell_type": "code",
   "execution_count": 10,
   "metadata": {
    "collapsed": false
   },
   "outputs": [
    {
     "data": {
      "text/html": [
       "<div>\n",
       "<style>\n",
       "    .dataframe thead tr:only-child th {\n",
       "        text-align: right;\n",
       "    }\n",
       "\n",
       "    .dataframe thead th {\n",
       "        text-align: left;\n",
       "    }\n",
       "\n",
       "    .dataframe tbody tr th {\n",
       "        vertical-align: top;\n",
       "    }\n",
       "</style>\n",
       "<table border=\"1\" class=\"dataframe\">\n",
       "  <thead>\n",
       "    <tr style=\"text-align: right;\">\n",
       "      <th></th>\n",
       "      <th>ZCTA</th>\n",
       "      <th>Population</th>\n",
       "    </tr>\n",
       "  </thead>\n",
       "  <tbody>\n",
       "    <tr>\n",
       "      <th>2748</th>\n",
       "      <td>11368</td>\n",
       "      <td>109931</td>\n",
       "    </tr>\n",
       "    <tr>\n",
       "      <th>2720</th>\n",
       "      <td>11226</td>\n",
       "      <td>101572</td>\n",
       "    </tr>\n",
       "    <tr>\n",
       "      <th>2753</th>\n",
       "      <td>11373</td>\n",
       "      <td>100820</td>\n",
       "    </tr>\n",
       "    <tr>\n",
       "      <th>2714</th>\n",
       "      <td>11220</td>\n",
       "      <td>99598</td>\n",
       "    </tr>\n",
       "    <tr>\n",
       "      <th>2759</th>\n",
       "      <td>11385</td>\n",
       "      <td>98592</td>\n",
       "    </tr>\n",
       "    <tr>\n",
       "      <th>2527</th>\n",
       "      <td>10467</td>\n",
       "      <td>97060</td>\n",
       "    </tr>\n",
       "    <tr>\n",
       "      <th>2451</th>\n",
       "      <td>10025</td>\n",
       "      <td>94600</td>\n",
       "    </tr>\n",
       "    <tr>\n",
       "      <th>2702</th>\n",
       "      <td>11208</td>\n",
       "      <td>94469</td>\n",
       "    </tr>\n",
       "    <tr>\n",
       "      <th>2729</th>\n",
       "      <td>11236</td>\n",
       "      <td>93877</td>\n",
       "    </tr>\n",
       "    <tr>\n",
       "      <th>2701</th>\n",
       "      <td>11207</td>\n",
       "      <td>93386</td>\n",
       "    </tr>\n",
       "  </tbody>\n",
       "</table>\n",
       "</div>"
      ],
      "text/plain": [
       "       ZCTA  Population\n",
       "2748  11368      109931\n",
       "2720  11226      101572\n",
       "2753  11373      100820\n",
       "2714  11220       99598\n",
       "2759  11385       98592\n",
       "2527  10467       97060\n",
       "2451  10025       94600\n",
       "2702  11208       94469\n",
       "2729  11236       93877\n",
       "2701  11207       93386"
      ]
     },
     "execution_count": 10,
     "metadata": {},
     "output_type": "execute_result"
    }
   ],
   "source": [
    "# sort the zipcode dataframe by population in descending order\n",
    "zipcode_df.sort_values(by='Population', ascending=False, inplace=True)\n",
    "\n",
    "# print top 10 most populous zip codes\n",
    "zipcode_df[:10]"
   ]
  },
  {
   "cell_type": "code",
   "execution_count": 11,
   "metadata": {
    "collapsed": false
   },
   "outputs": [],
   "source": [
    "# top 10 most populous zip codes (converted to string for indexing)\n",
    "top_10_most_populous_zips = [str(x) for x in zipcode_df['ZCTA'][:10].tolist()]"
   ]
  },
  {
   "cell_type": "code",
   "execution_count": 12,
   "metadata": {
    "collapsed": false
   },
   "outputs": [],
   "source": [
    "# create pivot table using the incident_zip as the index and a count of each unique complaint type\n",
    "complaints_by_zip = complaints_df.pivot_table(index='incident_zip', columns='complaint_type', aggfunc=len)\n",
    "\n",
    "# get a cross section of a column without a mutlilevel index (shouldn't matter which column is chosen)\n",
    "complaints_by_zip = complaints_by_zip.xs('borough', axis=1, drop_level=True)"
   ]
  },
  {
   "cell_type": "code",
   "execution_count": 13,
   "metadata": {
    "collapsed": false
   },
   "outputs": [
    {
     "data": {
      "text/html": [
       "<div>\n",
       "<style>\n",
       "    .dataframe thead tr:only-child th {\n",
       "        text-align: right;\n",
       "    }\n",
       "\n",
       "    .dataframe thead th {\n",
       "        text-align: left;\n",
       "    }\n",
       "\n",
       "    .dataframe tbody tr th {\n",
       "        vertical-align: top;\n",
       "    }\n",
       "</style>\n",
       "<table border=\"1\" class=\"dataframe\">\n",
       "  <thead>\n",
       "    <tr style=\"text-align: right;\">\n",
       "      <th>complaint_type</th>\n",
       "      <th>Noise - Residential</th>\n",
       "      <th>HEAT/HOT WATER</th>\n",
       "      <th>Illegal Parking</th>\n",
       "      <th>Blocked Driveway</th>\n",
       "      <th>Street Condition</th>\n",
       "      <th>UNSANITARY CONDITION</th>\n",
       "      <th>Noise - Street/Sidewalk</th>\n",
       "      <th>Water System</th>\n",
       "      <th>Noise</th>\n",
       "      <th>PAINT/PLASTER</th>\n",
       "    </tr>\n",
       "    <tr>\n",
       "      <th>incident_zip</th>\n",
       "      <th></th>\n",
       "      <th></th>\n",
       "      <th></th>\n",
       "      <th></th>\n",
       "      <th></th>\n",
       "      <th></th>\n",
       "      <th></th>\n",
       "      <th></th>\n",
       "      <th></th>\n",
       "      <th></th>\n",
       "    </tr>\n",
       "  </thead>\n",
       "  <tbody>\n",
       "    <tr>\n",
       "      <th>11368</th>\n",
       "      <td>2460.0</td>\n",
       "      <td>1620.0</td>\n",
       "      <td>1250.0</td>\n",
       "      <td>4380.0</td>\n",
       "      <td>561.0</td>\n",
       "      <td>639.0</td>\n",
       "      <td>684.0</td>\n",
       "      <td>617.0</td>\n",
       "      <td>158.0</td>\n",
       "      <td>361.0</td>\n",
       "    </tr>\n",
       "    <tr>\n",
       "      <th>11226</th>\n",
       "      <td>4852.0</td>\n",
       "      <td>7569.0</td>\n",
       "      <td>1073.0</td>\n",
       "      <td>2200.0</td>\n",
       "      <td>491.0</td>\n",
       "      <td>3155.0</td>\n",
       "      <td>1831.0</td>\n",
       "      <td>406.0</td>\n",
       "      <td>440.0</td>\n",
       "      <td>2639.0</td>\n",
       "    </tr>\n",
       "    <tr>\n",
       "      <th>11373</th>\n",
       "      <td>1841.0</td>\n",
       "      <td>3408.0</td>\n",
       "      <td>1270.0</td>\n",
       "      <td>2623.0</td>\n",
       "      <td>691.0</td>\n",
       "      <td>756.0</td>\n",
       "      <td>304.0</td>\n",
       "      <td>372.0</td>\n",
       "      <td>270.0</td>\n",
       "      <td>265.0</td>\n",
       "    </tr>\n",
       "    <tr>\n",
       "      <th>11220</th>\n",
       "      <td>1522.0</td>\n",
       "      <td>1634.0</td>\n",
       "      <td>2012.0</td>\n",
       "      <td>1558.0</td>\n",
       "      <td>690.0</td>\n",
       "      <td>719.0</td>\n",
       "      <td>498.0</td>\n",
       "      <td>674.0</td>\n",
       "      <td>442.0</td>\n",
       "      <td>506.0</td>\n",
       "    </tr>\n",
       "    <tr>\n",
       "      <th>11385</th>\n",
       "      <td>2609.0</td>\n",
       "      <td>1526.0</td>\n",
       "      <td>4129.0</td>\n",
       "      <td>3039.0</td>\n",
       "      <td>1232.0</td>\n",
       "      <td>647.0</td>\n",
       "      <td>607.0</td>\n",
       "      <td>1240.0</td>\n",
       "      <td>507.0</td>\n",
       "      <td>352.0</td>\n",
       "    </tr>\n",
       "    <tr>\n",
       "      <th>10467</th>\n",
       "      <td>5803.0</td>\n",
       "      <td>6041.0</td>\n",
       "      <td>982.0</td>\n",
       "      <td>2067.0</td>\n",
       "      <td>612.0</td>\n",
       "      <td>2192.0</td>\n",
       "      <td>712.0</td>\n",
       "      <td>560.0</td>\n",
       "      <td>285.0</td>\n",
       "      <td>1955.0</td>\n",
       "    </tr>\n",
       "    <tr>\n",
       "      <th>10025</th>\n",
       "      <td>2085.0</td>\n",
       "      <td>2397.0</td>\n",
       "      <td>735.0</td>\n",
       "      <td>125.0</td>\n",
       "      <td>628.0</td>\n",
       "      <td>714.0</td>\n",
       "      <td>1224.0</td>\n",
       "      <td>481.0</td>\n",
       "      <td>1398.0</td>\n",
       "      <td>604.0</td>\n",
       "    </tr>\n",
       "    <tr>\n",
       "      <th>11208</th>\n",
       "      <td>2792.0</td>\n",
       "      <td>2052.0</td>\n",
       "      <td>2148.0</td>\n",
       "      <td>2751.0</td>\n",
       "      <td>816.0</td>\n",
       "      <td>1341.0</td>\n",
       "      <td>825.0</td>\n",
       "      <td>710.0</td>\n",
       "      <td>188.0</td>\n",
       "      <td>800.0</td>\n",
       "    </tr>\n",
       "    <tr>\n",
       "      <th>11236</th>\n",
       "      <td>1929.0</td>\n",
       "      <td>1145.0</td>\n",
       "      <td>1430.0</td>\n",
       "      <td>3038.0</td>\n",
       "      <td>1021.0</td>\n",
       "      <td>562.0</td>\n",
       "      <td>201.0</td>\n",
       "      <td>623.0</td>\n",
       "      <td>108.0</td>\n",
       "      <td>347.0</td>\n",
       "    </tr>\n",
       "    <tr>\n",
       "      <th>11207</th>\n",
       "      <td>3060.0</td>\n",
       "      <td>2461.0</td>\n",
       "      <td>1495.0</td>\n",
       "      <td>2061.0</td>\n",
       "      <td>1142.0</td>\n",
       "      <td>1621.0</td>\n",
       "      <td>558.0</td>\n",
       "      <td>757.0</td>\n",
       "      <td>199.0</td>\n",
       "      <td>1055.0</td>\n",
       "    </tr>\n",
       "  </tbody>\n",
       "</table>\n",
       "</div>"
      ],
      "text/plain": [
       "complaint_type  Noise - Residential  HEAT/HOT WATER  Illegal Parking  \\\n",
       "incident_zip                                                           \n",
       "11368                        2460.0          1620.0           1250.0   \n",
       "11226                        4852.0          7569.0           1073.0   \n",
       "11373                        1841.0          3408.0           1270.0   \n",
       "11220                        1522.0          1634.0           2012.0   \n",
       "11385                        2609.0          1526.0           4129.0   \n",
       "10467                        5803.0          6041.0            982.0   \n",
       "10025                        2085.0          2397.0            735.0   \n",
       "11208                        2792.0          2052.0           2148.0   \n",
       "11236                        1929.0          1145.0           1430.0   \n",
       "11207                        3060.0          2461.0           1495.0   \n",
       "\n",
       "complaint_type  Blocked Driveway  Street Condition  UNSANITARY CONDITION  \\\n",
       "incident_zip                                                               \n",
       "11368                     4380.0             561.0                 639.0   \n",
       "11226                     2200.0             491.0                3155.0   \n",
       "11373                     2623.0             691.0                 756.0   \n",
       "11220                     1558.0             690.0                 719.0   \n",
       "11385                     3039.0            1232.0                 647.0   \n",
       "10467                     2067.0             612.0                2192.0   \n",
       "10025                      125.0             628.0                 714.0   \n",
       "11208                     2751.0             816.0                1341.0   \n",
       "11236                     3038.0            1021.0                 562.0   \n",
       "11207                     2061.0            1142.0                1621.0   \n",
       "\n",
       "complaint_type  Noise - Street/Sidewalk  Water System   Noise  PAINT/PLASTER  \n",
       "incident_zip                                                                  \n",
       "11368                             684.0         617.0   158.0          361.0  \n",
       "11226                            1831.0         406.0   440.0         2639.0  \n",
       "11373                             304.0         372.0   270.0          265.0  \n",
       "11220                             498.0         674.0   442.0          506.0  \n",
       "11385                             607.0        1240.0   507.0          352.0  \n",
       "10467                             712.0         560.0   285.0         1955.0  \n",
       "10025                            1224.0         481.0  1398.0          604.0  \n",
       "11208                             825.0         710.0   188.0          800.0  \n",
       "11236                             201.0         623.0   108.0          347.0  \n",
       "11207                             558.0         757.0   199.0         1055.0  "
      ]
     },
     "execution_count": 13,
     "metadata": {},
     "output_type": "execute_result"
    }
   ],
   "source": [
    "# print the top 10 complaints in the top 10 most populous zip codes\n",
    "complaints_by_zip.loc[top_10_most_populous_zips][top_10_complaint_types.index]"
   ]
  },
  {
   "cell_type": "markdown",
   "metadata": {},
   "source": [
    "# Which boroughs are the biggest \"complainers\" relative to the size of the population in 2017?\n",
    "# Calculate a complaint-index that adjusts for population of the borough."
   ]
  },
  {
   "cell_type": "code",
   "execution_count": 14,
   "metadata": {
    "collapsed": false
   },
   "outputs": [],
   "source": [
    "# data structures to hold calculated data\n",
    "population_by_borough = []\n",
    "num_complaints_by_borough = []\n",
    "\n",
    "# number of complaints by zip code\n",
    "num_complaints_by_zip = complaints_df['incident_zip'].value_counts().reset_index()\n",
    "num_complaints_by_zip.rename(columns = {'index':'ZCTA', 'incident_zip':'num_complaints'}, inplace = True)\n",
    "\n",
    "# iterate over boroughs\n",
    "for borough in complaints_df.borough.unique():\n",
    "    # get zips for borough\n",
    "    zips_of_borough = complaints_df.query('borough == @borough')['incident_zip']\n",
    "    \n",
    "    # sum population of each zipcode in the borough\n",
    "    population = np.sum(zipcode_df[zipcode_df['ZCTA'].isin(zips_of_borough)]['Population'])\n",
    "    population_by_borough.append( (borough, population) )\n",
    "    \n",
    "    # sum number of complaints by zipcode in the borough\n",
    "    num_complaints = np.sum(num_complaints_by_zip[num_complaints_by_zip['ZCTA'].isin(zips_of_borough)]['num_complaints'])\n",
    "    num_complaints_by_borough.append( (borough, num_complaints) )"
   ]
  },
  {
   "cell_type": "code",
   "execution_count": 15,
   "metadata": {
    "collapsed": false
   },
   "outputs": [
    {
     "name": "stdout",
     "output_type": "stream",
     "text": [
      "Population of each borough:\n",
      "[('BRONX', 1592084), ('QUEENS', 2755424), ('BROOKLYN', 2732303), ('MANHATTAN', 2073659), ('STATEN ISLAND', 468730)]\n",
      "Number of complaints for each borough:\n",
      "[('BRONX', 467765), ('QUEENS', 685309), ('BROOKLYN', 820071), ('MANHATTAN', 606223), ('STATEN ISLAND', 125497)]\n"
     ]
    }
   ],
   "source": [
    "# the population of each borough\n",
    "print(\"Population of each borough:\\n{}\".format(population_by_borough))\n",
    "print(\"Number of complaints for each borough:\\n{}\".format(num_complaints_by_borough))"
   ]
  },
  {
   "cell_type": "code",
   "execution_count": 21,
   "metadata": {
    "collapsed": false
   },
   "outputs": [
    {
     "name": "stdout",
     "output_type": "stream",
     "text": [
      "There is a discrepancy in the total number of complaints and the total number of complaints by borough.\n",
      "Im not sure why it is but maybe because some zipcodes are in 2 boroughs and are therefore counted twice\n",
      "\n",
      "Total Number of complaints: 2338742\n",
      "Total Number of complaints after separating by borough: 2704865\n"
     ]
    }
   ],
   "source": [
    "print(\"There is a discrepancy in the total number of complaints and the total number of complaints by borough.\")\n",
    "print(\"Im not sure why it is but maybe because some zipcodes are in 2 boroughs and are therefore counted twice\\n\")\n",
    "\n",
    "print(\"Total Number of complaints: {}\".format(sum(num_complaints_by_zip.num_complaints)))\n",
    "print(\"Total Number of complaints after separating by borough: {}\".format(sum(p[1] for p in num_complaints_by_borough)))"
   ]
  },
  {
   "cell_type": "code",
   "execution_count": 29,
   "metadata": {
    "collapsed": false
   },
   "outputs": [],
   "source": [
    "# calculate population-adjusted complaint-index for each borough\n",
    "# The complaint-index measures the number of complaints in a borough compared to other boroughs in NYC\n",
    "\n",
    "# calcualate ratio of complaints to population size for each borough\n",
    "# get the population size of each borough relative to the total population of NYC\n",
    "# adjusted complaint-index is the ratio of complaints in the borough relative to borough population share in NYC\n",
    "\n",
    "total_nyc_population = np.sum(int(p[1]) for p in population_by_borough)\n",
    "\n",
    "complaint_index = []\n",
    "for i in range(len(population_by_borough)):\n",
    "    pct_complaints_for_borough = num_complaints_by_borough[i][1]/population_by_borough[i][1]\n",
    "    relative_population = population_by_borough[i][1]/total_nyc_population\n",
    "    \n",
    "    adjusted_complaint_index = pct_complaints_for_borough/relative_population\n",
    "    complaint_index.append((population_by_borough[i][0], adjusted_complaint_index))"
   ]
  },
  {
   "cell_type": "code",
   "execution_count": 36,
   "metadata": {
    "collapsed": false
   },
   "outputs": [
    {
     "name": "stdout",
     "output_type": "stream",
     "text": [
      "The biggest complainers in descending order using complaint-index:\n",
      "[('STATEN ISLAND', 5.4961961409611755), ('BRONX', 1.775702258247686), ('MANHATTAN', 1.3565384470550297), ('BROOKLYN', 1.056983276414725), ('QUEENS', 0.8685282345258203)]\n"
     ]
    }
   ],
   "source": [
    "# sort the list by largest complaint index and print\n",
    "complaint_index.sort(key=lambda x: x[1], reverse=True)\n",
    "print(\"The biggest complainers in descending order using complaint-index:\\n{}\".format(complaint_index))"
   ]
  },
  {
   "cell_type": "code",
   "execution_count": null,
   "metadata": {
    "collapsed": true
   },
   "outputs": [],
   "source": []
  }
 ],
 "metadata": {
  "kernelspec": {
   "display_name": "Python 3",
   "language": "python",
   "name": "python3"
  },
  "language_info": {
   "codemirror_mode": {
    "name": "ipython",
    "version": 3
   },
   "file_extension": ".py",
   "mimetype": "text/x-python",
   "name": "python",
   "nbconvert_exporter": "python",
   "pygments_lexer": "ipython3",
   "version": "3.6.0"
  }
 },
 "nbformat": 4,
 "nbformat_minor": 2
}
